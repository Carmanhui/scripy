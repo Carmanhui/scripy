{
 "cells": [
  {
   "cell_type": "code",
   "execution_count": 1,
   "metadata": {},
   "outputs": [
    {
     "name": "stdout",
     "output_type": "stream",
     "text": [
      "http://zhangmenshiting.qianqian.com/data2/music/c44c2c108d5c569d27e39bac87aef584/540310798/540310798.mp3?xcode=44361d8e9b1e89a4d1fcd5f6c50b1ab0\n",
      "http://zhangmenshiting.qianqian.com/data2/music/e93d963095b109ff47de85f1b41ffdd1/522883870/522883870.mp3?xcode=44361d8e9b1e89a4d1fcd5f6c50b1ab0\n",
      "http://zhangmenshiting.qianqian.com/data2/music/82107ed851f5d9a4dfa050dcbcdf3e41/540244538/540244538.mp3?xcode=44361d8e9b1e89a4d1fcd5f6c50b1ab0\n",
      "http://zhangmenshiting.qianqian.com/data2/music/ea2bf2911363263664f14bf42959b0db/551566705/551566705.mp3?xcode=44361d8e9b1e89a4d1fcd5f6c50b1ab0\n",
      "http://zhangmenshiting.qianqian.com/data2/music/246c2ff4983a6da72822fffdec09f8af/551566669/551566669.mp3?xcode=44361d8e9b1e89a4d1fcd5f6c50b1ab0\n",
      "http://zhangmenshiting.qianqian.com/data2/music/85c6b18d01699919674fb0113ce0bfc6/551566429/551566429.mp3?xcode=44361d8e9b1e89a4d1fcd5f6c50b1ab0\n",
      "http://zhangmenshiting.qianqian.com/data2/music/1a6421f5634176d1bdcc15a9010df8fc/551566423/551566423.mp3?xcode=44361d8e9b1e89a4d1fcd5f6c50b1ab0\n",
      "http://zhangmenshiting.qianqian.com/data2/music/cff28c9ff0b2c1db2f55d7514b1e82e4/551566680/551566680.mp3?xcode=44361d8e9b1e89a4d1fcd5f6c50b1ab0\n",
      "http://zhangmenshiting.qianqian.com/data2/music/c6f5161dbef16f5f4b6536d81a8666ef/540488393/540488393.mp3?xcode=44361d8e9b1e89a4d1fcd5f6c50b1ab0\n",
      "http://zhangmenshiting.qianqian.com/data2/music/377d70c29ea10ad0d1494614e9674ed4/557837937/557837937.mp3?xcode=44361d8e9b1e89a4d1fcd5f6c50b1ab0\n",
      "http://zhangmenshiting.qianqian.com/data2/music/0680f756526189f9568219d538b3f379/559935472/559935472.mp3?xcode=44361d8e9b1e89a4d1fcd5f6c50b1ab0\n",
      "http://zhangmenshiting.qianqian.com/data2/music/48068506/48068506.mp3?xcode=44361d8e9b1e89a4d1fcd5f6c50b1ab0\n",
      "http://zhangmenshiting.qianqian.com/data2/music/42364740/42364740.mp3?xcode=44361d8e9b1e89a4d1fcd5f6c50b1ab0\n",
      "http://zhangmenshiting.qianqian.com/data2/music/125620106/125620106.mp3?xcode=44361d8e9b1e89a4d1fcd5f6c50b1ab0\n",
      "http://zhangmenshiting.qianqian.com/data2/music/125625389/125625389.mp3?xcode=44361d8e9b1e89a4d1fcd5f6c50b1ab0\n",
      "http://zhangmenshiting.qianqian.com/data2/music/125614908/125614908.mp3?xcode=44361d8e9b1e89a4d1fcd5f6c50b1ab0\n",
      "http://zhangmenshiting.qianqian.com/data2/music/42587589/42587589.mp3?xcode=44361d8e9b1e89a4d1fcd5f6c50b1ab0\n",
      "http://zhangmenshiting.qianqian.com/data2/music/42554065/42554065.mp3?xcode=44361d8e9b1e89a4d1fcd5f6c50b1ab0\n",
      "http://zhangmenshiting.qianqian.com/data2/music/5f9de19c2877ef05c48ce6f7189eb0cf/334146946/334146946.mp3?xcode=44361d8e9b1e89a4d1fcd5f6c50b1ab0\n",
      "http://zhangmenshiting.qianqian.com/data2/music/43058068/43058068.mp3?xcode=44361d8e9b1e89a4d1fcd5f6c50b1ab0\n"
     ]
    }
   ],
   "source": [
    "# -*- coding:utf-8 -*-\n",
    "\"\"\"@author:CMH\n",
    "@file:mp3.py\n",
    "@time:2018/3/30 003008:31\n",
    "\"\"\"\n",
    "import requests\n",
    "import re\n",
    "import os\n",
    "\n",
    "#搜索歌曲\n",
    "music = {\n",
    "    'key':'刘德华'\n",
    "}\n",
    "#百度音乐搜索api\n",
    "search_url = 'http://music.baidu.com/search'\n",
    "#发送http请求\n",
    "search_response = requests.get(search_url,params=music)\n",
    "#设置编码\n",
    "search_response.encoding = 'utf-8'\n",
    "search_html = search_response.text\n",
    "#获取歌曲id，用正则表达式\n",
    "song_ids = re.findall(r'sid&quot;:(\\d+),',search_html)\n",
    "#print(song_ids)\n",
    "\n",
    "#根据id去获取歌曲的信息\n",
    "song_api='http://play.baidu.com/data/music/songlink'\n",
    "data = {\n",
    "    'songIds':','.join(song_ids),\n",
    "    'hq':0,\n",
    "    'type':'mp3',\n",
    "    'pt':0,\n",
    "    'flag':1,\n",
    "    's2p':650,\n",
    "    'prerate':128,\n",
    "    'bwt':266,\n",
    "    'dur':231000,\n",
    "    'bat':266,\n",
    "    'bp':100,\n",
    "    'pos':65833,\n",
    "    'auto':0  \n",
    "}\n",
    "#发送请求\n",
    "song_response = requests.post(song_api,data=data)\n",
    "#print(song_response.text)\n",
    "#将返回回来的歌曲数据转换成字典\n",
    "song_info = song_response.json()\n",
    "song_info = song_info['data']['songList']\n",
    "\n",
    "path = os.mkdir(music['key'])\n",
    "#遍历song_info\n",
    "for song in song_info:\n",
    "    song_name = song['songName']\n",
    "    print(song['songLink'])\n",
    "    \n",
    "    with open(music['key'] + '/'+ '%s.mp3' % song_name,'wb') as f:\n",
    "        #下载mp3\n",
    "        response = requests.get(song['songLink'])\n",
    "        f.write(response.content)"
   ]
  },
  {
   "cell_type": "code",
   "execution_count": null,
   "metadata": {
    "collapsed": true
   },
   "outputs": [],
   "source": []
  }
 ],
 "metadata": {
  "kernelspec": {
   "display_name": "Python 3",
   "language": "python",
   "name": "python3"
  },
  "language_info": {
   "codemirror_mode": {
    "name": "ipython",
    "version": 3
   },
   "file_extension": ".py",
   "mimetype": "text/x-python",
   "name": "python",
   "nbconvert_exporter": "python",
   "pygments_lexer": "ipython3",
   "version": "3.6.3"
  }
 },
 "nbformat": 4,
 "nbformat_minor": 2
}
