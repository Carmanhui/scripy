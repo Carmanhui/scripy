{
 "cells": [
  {
   "cell_type": "code",
   "execution_count": 1,
   "metadata": {},
   "outputs": [
    {
     "name": "stdout",
     "output_type": "stream",
     "text": [
      "请输入mv的url：http://v.yinyuetai.com/video/3224037\n",
      "请输入歌名：nonono_apink\n",
      "['http://hc.yinyuetai.com/uploads/videos/common/933B0163C51C9FB134DADAC393BA8531.mp4?sc=54d0814dd4f8a195', 'http://hd.yinyuetai.com/uploads/videos/common/51580163C51FB51DEFEB55AA2AA80B87.mp4?sc=e8867e9d58d78034', 'http://he.yinyuetai.com/uploads/videos/common/F8F80163C51FB5597205CB6517D8883E.mp4?sc=d66ae01c9f9bf901', 'http://sh.yinyuetai.com/uploads/videos/common/A0DC0163C51FB5627651B7CF8588EA8B.mp4?sc=4944e7b9ecb3d178']\n"
     ]
    },
    {
     "ename": "ContentTooShortError",
     "evalue": "<urlopen error retrieval incomplete: got only 68334912 out of 119727647 bytes>",
     "output_type": "error",
     "traceback": [
      "\u001b[1;31m---------------------------------------------------------------------------\u001b[0m",
      "\u001b[1;31mContentTooShortError\u001b[0m                      Traceback (most recent call last)",
      "\u001b[1;32m<ipython-input-1-460d3e140a10>\u001b[0m in \u001b[0;36m<module>\u001b[1;34m()\u001b[0m\n\u001b[0;32m     26\u001b[0m     \u001b[0murl\u001b[0m \u001b[1;33m=\u001b[0m \u001b[0minput\u001b[0m\u001b[1;33m(\u001b[0m\u001b[1;34m'请输入mv的url：'\u001b[0m\u001b[1;33m)\u001b[0m\u001b[1;33m\u001b[0m\u001b[0m\n\u001b[0;32m     27\u001b[0m     \u001b[0mname\u001b[0m \u001b[1;33m=\u001b[0m \u001b[0minput\u001b[0m\u001b[1;33m(\u001b[0m\u001b[1;34m'请输入歌名：'\u001b[0m\u001b[1;33m)\u001b[0m\u001b[1;33m\u001b[0m\u001b[0m\n\u001b[1;32m---> 28\u001b[1;33m     \u001b[0mmv\u001b[0m\u001b[1;33m(\u001b[0m\u001b[0murl\u001b[0m\u001b[1;33m,\u001b[0m\u001b[0mname\u001b[0m\u001b[1;33m)\u001b[0m\u001b[1;33m\u001b[0m\u001b[0m\n\u001b[0m",
      "\u001b[1;32m<ipython-input-1-460d3e140a10>\u001b[0m in \u001b[0;36mmv\u001b[1;34m(url, name)\u001b[0m\n\u001b[0;32m     20\u001b[0m     \u001b[0mmp4\u001b[0m \u001b[1;33m=\u001b[0m \u001b[0mmvurl\u001b[0m\u001b[1;33m.\u001b[0m\u001b[0msplit\u001b[0m\u001b[1;33m(\u001b[0m\u001b[1;34m'?'\u001b[0m\u001b[1;33m)\u001b[0m\u001b[1;33m[\u001b[0m\u001b[1;36m0\u001b[0m\u001b[1;33m]\u001b[0m\u001b[1;33m\u001b[0m\u001b[0m\n\u001b[0;32m     21\u001b[0m     \u001b[0mmp4\u001b[0m \u001b[1;33m=\u001b[0m \u001b[0mmp4\u001b[0m\u001b[1;33m[\u001b[0m\u001b[1;33m-\u001b[0m\u001b[1;36m4\u001b[0m\u001b[1;33m:\u001b[0m\u001b[1;33m]\u001b[0m\u001b[1;33m\u001b[0m\u001b[0m\n\u001b[1;32m---> 22\u001b[1;33m     \u001b[0murllib\u001b[0m\u001b[1;33m.\u001b[0m\u001b[0mrequest\u001b[0m\u001b[1;33m.\u001b[0m\u001b[0murlretrieve\u001b[0m\u001b[1;33m(\u001b[0m\u001b[0mmvurl\u001b[0m\u001b[1;33m,\u001b[0m\u001b[1;34m'{}{}'\u001b[0m\u001b[1;33m.\u001b[0m\u001b[0mformat\u001b[0m\u001b[1;33m(\u001b[0m\u001b[0mname\u001b[0m\u001b[1;33m,\u001b[0m\u001b[0mmp4\u001b[0m\u001b[1;33m)\u001b[0m\u001b[1;33m)\u001b[0m\u001b[1;33m\u001b[0m\u001b[0m\n\u001b[0m\u001b[0;32m     23\u001b[0m \u001b[1;33m\u001b[0m\u001b[0m\n\u001b[0;32m     24\u001b[0m \u001b[1;32mif\u001b[0m \u001b[0m__name__\u001b[0m\u001b[1;33m==\u001b[0m\u001b[1;34m'__main__'\u001b[0m\u001b[1;33m:\u001b[0m\u001b[1;33m\u001b[0m\u001b[0m\n",
      "\u001b[1;32mE:\\Anaconda3\\lib\\urllib\\request.py\u001b[0m in \u001b[0;36murlretrieve\u001b[1;34m(url, filename, reporthook, data)\u001b[0m\n\u001b[0;32m    287\u001b[0m         raise ContentTooShortError(\n\u001b[0;32m    288\u001b[0m             \u001b[1;34m\"retrieval incomplete: got only %i out of %i bytes\"\u001b[0m\u001b[1;33m\u001b[0m\u001b[0m\n\u001b[1;32m--> 289\u001b[1;33m             % (read, size), result)\n\u001b[0m\u001b[0;32m    290\u001b[0m \u001b[1;33m\u001b[0m\u001b[0m\n\u001b[0;32m    291\u001b[0m     \u001b[1;32mreturn\u001b[0m \u001b[0mresult\u001b[0m\u001b[1;33m\u001b[0m\u001b[0m\n",
      "\u001b[1;31mContentTooShortError\u001b[0m: <urlopen error retrieval incomplete: got only 68334912 out of 119727647 bytes>"
     ]
    }
   ],
   "source": [
    "import re\n",
    "import requests\n",
    "import webbrowser\n",
    "import urllib.request\n",
    "\n",
    "def getHtml(url):    \n",
    "    page = requests.get(url)\n",
    "    html =page.text\n",
    "    return html  \n",
    "\n",
    "def mv(url,name):\n",
    "    mvid = url.split('/')[-1]\n",
    "    url = 'http://www.yinyuetai.com/insite/get-video-info?flex=true&videoId={}'.format(mvid)\n",
    "    html = getHtml(url)\n",
    "    reg = r'http://\\w*?\\.yinyuetai\\.com/uploads/videos/common/.*?(?=&br)'\n",
    "    pattern = re.compile(reg)\n",
    "    findlist = re.findall(pattern,html)\n",
    "    print(findlist)\n",
    "    mvurl = findlist[-1]\n",
    "    mp4 = mvurl.split('?')[0]\n",
    "    mp4 = mp4[-4:]\n",
    "    urllib.request.urlretrieve(mvurl,'{}{}'.format(name,mp4))\n",
    "    \n",
    "if __name__=='__main__':  \n",
    "#     url = \"http://v.yinyuetai.com/video/3191281\"   \n",
    "    url = input('请输入mv的url：')\n",
    "    name = input('请输入歌名：')\n",
    "    mv(url,name)  \n"
   ]
  },
  {
   "cell_type": "code",
   "execution_count": null,
   "metadata": {
    "collapsed": true
   },
   "outputs": [],
   "source": []
  }
 ],
 "metadata": {
  "kernelspec": {
   "display_name": "Python 3",
   "language": "python",
   "name": "python3"
  },
  "language_info": {
   "codemirror_mode": {
    "name": "ipython",
    "version": 3
   },
   "file_extension": ".py",
   "mimetype": "text/x-python",
   "name": "python",
   "nbconvert_exporter": "python",
   "pygments_lexer": "ipython3",
   "version": "3.6.3"
  }
 },
 "nbformat": 4,
 "nbformat_minor": 2
}
