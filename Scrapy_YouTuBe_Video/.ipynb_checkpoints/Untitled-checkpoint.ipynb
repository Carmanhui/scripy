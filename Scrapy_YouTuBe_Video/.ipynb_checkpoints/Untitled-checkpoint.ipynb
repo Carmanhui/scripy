{
 "cells": [
  {
   "cell_type": "code",
   "execution_count": null,
   "metadata": {},
   "outputs": [],
   "source": [
    "import requests\n",
    "res = requests.get('https://www.youtube.com/watch?v=mCRIqC7SEro')\n",
    "print(res.text)"
   ]
  },
  {
   "cell_type": "code",
   "execution_count": null,
   "metadata": {},
   "outputs": [],
   "source": [
    "import re\n",
    "m = re.search('\"args\":({.*?})',res.text)"
   ]
  },
  {
   "cell_type": "code",
   "execution_count": null,
   "metadata": {},
   "outputs": [],
   "source": [
    "import json\n",
    "jd = json.loads(m.group(1))\n",
    "print(jd[\"url_encoded_fmt_stream_map\"])"
   ]
  },
  {
   "cell_type": "code",
   "execution_count": 2,
   "metadata": {},
   "outputs": [],
   "source": [
    "import urllib.parse\n",
    "a = urllib.parse.parse_qs(jd[\"url_encoded_fmt_stream_map\"])"
   ]
  },
  {
   "cell_type": "code",
   "execution_count": null,
   "metadata": {},
   "outputs": [],
   "source": [
    "print(a['url'][0])\n",
    "import shutil\n",
    "res2 = requests.get(a['url'][0],stream=True)\n",
    "f = open('a.mp4','wb')\n",
    "shutil.copyfileobj(res2.raw,f)\n",
    "f.close()"
   ]
  },
  {
   "cell_type": "code",
   "execution_count": null,
   "metadata": {},
   "outputs": [],
   "source": []
  }
 ],
 "metadata": {
  "kernelspec": {
   "display_name": "Python 3",
   "language": "python",
   "name": "python3"
  }
 },
 "nbformat": 4,
 "nbformat_minor": 2
}
