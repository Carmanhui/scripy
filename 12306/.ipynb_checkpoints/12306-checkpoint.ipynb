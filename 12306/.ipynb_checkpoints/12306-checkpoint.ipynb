{
 "cells": [
  {
   "cell_type": "markdown",
   "metadata": {},
   "source": [
    "利用python突破12306验证码实验登录\n",
    "下载验证码\n",
    "图片网址\n",
    "cookies保持\n",
    "输入坐标，减去头的尺寸"
   ]
  },
  {
   "cell_type": "code",
   "execution_count": 6,
   "metadata": {},
   "outputs": [
    {
     "ename": "SyntaxError",
     "evalue": "invalid syntax (<ipython-input-6-3295e98aace0>, line 26)",
     "output_type": "error",
     "traceback": [
      "\u001b[1;36m  File \u001b[1;32m\"<ipython-input-6-3295e98aace0>\"\u001b[1;36m, line \u001b[1;32m26\u001b[0m\n\u001b[1;33m    username = cmh19921205,\u001b[0m\n\u001b[1;37m             ^\u001b[0m\n\u001b[1;31mSyntaxError\u001b[0m\u001b[1;31m:\u001b[0m invalid syntax\n"
     ]
    }
   ],
   "source": [
    "import requests\n",
    "import urllib3\n",
    "import re\n",
    "\n",
    "session = requests.Session()\n",
    "captcha_url = 'https://kyfw.12306.cn/passport/captcha/captcha-image?login_site=E&module=login&rand=sjrand&0.8799183390853158'\n",
    "response = session.get(captcha_url)\n",
    "img_content = response.content\n",
    "#写入到图片\n",
    "with open('captcha.jpg','wb') as f:\n",
    "    f.write(img_content) \n",
    "    \n",
    "#首先检测验证码\n",
    "aptcha_check_api = 'https://kyfw.12306.cn/passport/captcha/captcha-check'\n",
    "code = input('请输入验证码的坐标>>>:')\n",
    "data = {\n",
    "    'answer': code.split(' '),\n",
    "    'login_site': 'E',\n",
    "    'rand': 'sjrand'\n",
    "}\n",
    "check_response = session.post(url=aptcha_check_api,data=data)\n",
    "print(check_response.text)\n",
    "#登录\n",
    "login_api = 'https://kyfw.12306.cn/passport/web/login'\n",
    "login_data = {\n",
    "    'username':'cmh19921205',\n",
    "    'password':'meng416850',\n",
    "    'appid':'otn',\n",
    "}\n",
    "login_response = session.post(url=login_api,data=login_data)\n",
    "print(login_response.text)"
   ]
  },
  {
   "cell_type": "code",
   "execution_count": 18,
   "metadata": {},
   "outputs": [],
   "source": []
  }
 ],
 "metadata": {
  "kernelspec": {
   "display_name": "Python 3",
   "language": "python",
   "name": "python3"
  },
  "language_info": {
   "codemirror_mode": {
    "name": "ipython",
    "version": 3
   },
   "file_extension": ".py",
   "mimetype": "text/x-python",
   "name": "python",
   "nbconvert_exporter": "python",
   "pygments_lexer": "ipython3",
   "version": "3.6.3"
  }
 },
 "nbformat": 4,
 "nbformat_minor": 2
}
