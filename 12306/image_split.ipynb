{
 "cells": [
  {
   "cell_type": "markdown",
   "metadata": {},
   "source": [
    "图片剪切"
   ]
  },
  {
   "cell_type": "code",
   "execution_count": 12,
   "metadata": {},
   "outputs": [
    {
     "name": "stdout",
     "output_type": "stream",
     "text": [
      "293 190\n"
     ]
    }
   ],
   "source": [
    "from PIL import Image\n",
    "import os\n",
    "\n",
    "path ='./captcha.jpg'\n",
    "save_word_path = './crop_word.jpg'\n",
    "save_img_path = './crop_img.jpg'\n",
    "\n",
    "img = Image.open(path)\n",
    "xsize,ysize = img.size\n",
    "print(xsize,ysize)\n",
    "box1 = (0,30,xsize,ysize)#图片区域\n",
    "box2 = (120,0,293,29)#文字区域\n",
    "crop_img = img.crop(box1).save(save_img_path)\n",
    "crop_img = img.crop(box2).save(save_word_path)"
   ]
  },
  {
   "cell_type": "markdown",
   "metadata": {},
   "source": [
    "图片分为小图"
   ]
  },
  {
   "cell_type": "code",
   "execution_count": 1,
   "metadata": {},
   "outputs": [],
   "source": [
    "import cv2  # [1]导入OpenCv开源库  \n",
    "import numpy as np\n",
    "\n",
    "image_path = \"./crop_img.jpg\"  \n",
    "srcImg = cv2.imread(image_path)  # [2]将图片加载到内存  \n",
    "\n",
    "cv2.namedWindow(\"[srcImg]\", cv2.WINDOW_AUTOSIZE)  # [3]创建显示窗口  \n",
    "cv2.imshow(\"[srcImg]\", srcImg)  # [4]在刚才创建的显示窗口中显示刚在加载的图片  \n",
    "cv2.waitKey(0)\n",
    "\n",
    "image_save_path_head = \"./crop\"  \n",
    "image_save_path_tail = \".jpg\"  \n",
    "seq = 1  \n",
    "for i in range(2):  # 图片高度 ，行，i*？，？为一张图的高度\n",
    "    for j in range(4):  #  图片宽度，列\n",
    "        img_roi = srcImg[(i * 80):((i + 1) * 80), (j * 73):((j + 1) * 73)]  \n",
    "        image_save_path = \"%s%d%s\" % (image_save_path_head, seq, image_save_path_tail)##将整数和字符串连接在一起  \n",
    "        cv2.imwrite(image_save_path, img_roi)  \n",
    "        seq = seq + 1 "
   ]
  },
  {
   "cell_type": "markdown",
   "metadata": {},
   "source": [
    "文字识别"
   ]
  },
  {
   "cell_type": "code",
   "execution_count": 24,
   "metadata": {},
   "outputs": [
    {
     "name": "stdout",
     "output_type": "stream",
     "text": [
      "{'log_id': 7574091482916069478, 'direction': 0, 'words_result_num': 1, 'words_result': [{'words': '趣靴'}]}\n",
      "趣靴\n"
     ]
    }
   ],
   "source": [
    "from aip import AipOcr\n",
    "import json\n",
    "\n",
    "# 定义常量  \n",
    "\n",
    "APP_ID ='10771801'  \n",
    "API_KEY ='QOxGbWq6MNkSS4GSYOqWRgKg'  \n",
    "SECRET_KEY ='KG3aIvNtl0Pmsq2z3EeuSmgQDDffCab1'  \n",
    "\n",
    "# 初始化AipFace对象  \n",
    "aipOcr = AipOcr(APP_ID, API_KEY, SECRET_KEY) \n",
    "\n",
    "# 读取图片  \n",
    "filePath =\"./crop_word.jpg\"  \n",
    "def get_file_content(filePath):  \n",
    "    with open(filePath,'rb') as fp:  \n",
    "        return fp.read()  \n",
    "        \n",
    "# 定义参数变量  \n",
    "options = {  \n",
    "    'detect_direction': 'true',  \n",
    "    'language_type': 'CHN_ENG',  \n",
    "}  \n",
    "\n",
    "# 调用通用文字识别接口  \n",
    "result = aipOcr.basicGeneral(get_file_content(filePath), options)  \n",
    "print(result)\n",
    "print(result['words_result'][0]['words'])"
   ]
  },
  {
   "cell_type": "markdown",
   "metadata": {},
   "source": [
    "图像识别"
   ]
  },
  {
   "cell_type": "code",
   "execution_count": null,
   "metadata": {
    "collapsed": true
   },
   "outputs": [],
   "source": []
  }
 ],
 "metadata": {
  "kernelspec": {
   "display_name": "Python 3",
   "language": "python",
   "name": "python3"
  },
  "language_info": {
   "codemirror_mode": {
    "name": "ipython",
    "version": 3
   },
   "file_extension": ".py",
   "mimetype": "text/x-python",
   "name": "python",
   "nbconvert_exporter": "python",
   "pygments_lexer": "ipython3",
   "version": "3.6.3"
  }
 },
 "nbformat": 4,
 "nbformat_minor": 2
}
